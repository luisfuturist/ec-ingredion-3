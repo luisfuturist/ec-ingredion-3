{
 "cells": [
  {
   "cell_type": "markdown",
   "metadata": {},
   "source": [
    "# Relatório EC Ingredion - SPRINT 3\n",
    "\n",
    "- Descrição da metodologia de coleta de dados históricos;\n",
    "- Descrição das técnicas estatísticas aplicadas (correlação, regressão);\n",
    "- Análise dos gráficos gerados;\n",
    "- Discussão crítica dos resultados e sugestões de melhorias;\n",
    "- Referências das bases públicas utilizadas. \n",
    "\n",
    "\n"
   ]
  }
 ],
 "metadata": {
  "language_info": {
   "name": "python"
  }
 },
 "nbformat": 4,
 "nbformat_minor": 2
}
