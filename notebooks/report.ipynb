{
 "cells": [
  {
   "cell_type": "markdown",
   "metadata": {},
   "source": [
    "# Relatório Técnico – Sprint 3\n",
    "\n",
    "## Correlação do Modelo com Dados Reais\n",
    "\n",
    "**Projeto Ingredion – FIAP 2024**\n",
    "\n",
    "**Grupo:** Amandha Nery, Bruno Conterato, Gustavo Castro, Kild Fernandes, Luis Emidio  \n",
    "**Data de Entrega:** 26/05/2025"
   ]
  },
  {
   "cell_type": "markdown",
   "metadata": {},
   "source": [
    "### 1\\. Metodologia de Coleta de Dados Históricos\n",
    "\n",
    "Nesta etapa, realizamos a coleta e o alinhamento de dados históricos para validar o desempenho do modelo preditivo desenvolvido na Sprint 2\\.\n",
    "\n",
    "A base mais relevante foi a **Tabela 1613 do IBGE SIDRA**, que permitiu extrair dados específicos sobre a cultura do café na região de **Manhuaçu-MG**, possibilitando a seleção das variáveis mais importantes: **produtividade média (kg/ha)** e **ano/safra**.\n",
    "\n",
    "Para a variável **NDVI (Normalized Difference Vegetation Index)**, utilizamos o **Google Earth Engine (GEE)** para capturar e processar imagens de satélite da coleção MODIS. A extração e o cálculo do NDVI médio anual foram realizados com scripts desenvolvidos (conforme mostrado no notebook), garantindo a correspondência temporal com os dados do IBGE.\n",
    "\n",
    "Foram feitos ajustes nas escalas temporais para alinhar os dados NDVI às médias anuais de produtividade. Uma limitação observada foi a **ausência de variáveis climáticas específicas**, que poderiam ter enriquecido a análise.\n",
    "\n",
    "- Google Earth Engine (GEE)\n",
    "- IBGE SIDRA"
   ]
  },
  {
   "cell_type": "markdown",
   "metadata": {},
   "source": [
    "### 2\\. Avaliação do Modelo com Dados Reais\n",
    "\n",
    "Nesta seção, avaliamos o desempenho dos modelos preditivos utilizando dados reais de produtividade agrícola, com foco em métricas específicas que refletem a precisão preditiva do modelo.\n",
    "\n",
    "Embora a Sprint 3 tenha inicialmente sugerido a aplicação de correlações simples (Spearman) para verificar a relação entre NDVI e produtividade real, decidimos priorizar métricas de avaliação preditiva. Essa escolha se justifica pelo fato de que:\n",
    "\n",
    "* As correlações simples indicam apenas a associação entre duas variáveis, mas não medem a qualidade da previsão ponto a ponto do modelo.  \n",
    "* As métricas **MAE (Erro Médio Absoluto)**, **RMSE (Raiz do Erro Quadrático Médio)** e **R² (Coeficiente de Determinação)** são mais adequadas para avaliar a capacidade real do modelo de prever valores, considerando erros e ajustes específicos.\n",
    "\n",
    "Os resultados obtidos foram:\n",
    "\n",
    "* **MLP:** R² \\= 0.825, MAE \\= 0.150, RMSE \\= 0.210  \n",
    "* **LSTM:** R² \\= 0.702, MAE \\= 0.195, RMSE \\= 0.275\n",
    "\n",
    "Esses resultados indicam que o modelo MLP apresentou melhor desempenho preditivo com os dados reais."
   ]
  },
  {
   "cell_type": "markdown",
   "metadata": {},
   "source": [
    "### 3\\. Análise dos Gráficos\n",
    "\n",
    "Esta seção reúne as representações gráficas que ilustram a comparação entre os modelos preditivos e os dados reais. As visualizações foram geradas com base nas análises do notebook e ajudam a compreender o comportamento dos modelos em relação à produtividade real observada.\n",
    "\n",
    "#### **Gráficos relativos aos dados de teste:**\n",
    "\n",
    "Gráfico 1 – NDVI x Produtividade Real (dados de teste)\n",
    "\n",
    "[INSERT GRÁFICO 1]\n",
    "\n",
    "* Mostra a correlação visual entre a variável NDVI e a produtividade real nos dados de teste.  \n",
    "* *Análise:* Observa-se uma boa correspondência geral entre os valores previstos e os dados reais nos períodos de teste. O modelo suaviza variações abruptas, revelando limitações na sensibilidade a mudanças súbitas.\n",
    "\n",
    "Gráfico 2 – Previsão MLP x Dados Reais (dados de teste)\n",
    "\n",
    "[INSERT GRÁFICO 2]\n",
    "\n",
    "* Apresenta as previsões do MLP e a variação em relação à produção real nos dados de teste.  \n",
    "* *Análise:* O MLP apresenta previsões mais suaves, capturando a tendência geral da produção, mas com dificuldade em modelar oscilações rápidas.\n",
    "\n",
    "#### **Gráficos relativos a todos os dados:**\n",
    "\n",
    "**Gráfico 3 – Previsão LSTM x Dados Reais (todos os dados)**  \n",
    "\n",
    "[INSERT GRÁFICO 3]\n",
    "\n",
    "* Mostra o desempenho do LSTM com a série temporal completa.  \n",
    "* *Análise:* O LSTM demonstra maior sensibilidade a transições e oscilações temporais (como em 2008), embora com maior ruído em certos trechos.\n",
    "\n",
    "**Gráfico 4 – Comparativo LSTM, MLP e Dados Reais (todos os dados)**\n",
    "\n",
    "[INSERT GRÁFICO 4]\n",
    "\n",
    "* Sobrepõe previsões dos dois modelos e os dados reais.  \n",
    "* ***Análise**:* O MLP apresenta melhor desempenho geral, segundo as métricas, enquanto o LSTM destaca-se por capturar melhor variações bruscas. A comparação evidencia os pontos fortes e limitações de cada abordagem.\n",
    "\n",
    "#### Conclusão geral da análise visual:\n",
    "\n",
    "* O **MLP** é mais robusto para prever tendências de longo prazo, mas com menor sensibilidade a picos e vales.  \n",
    "* O **LSTM** é mais responsivo a variações pontuais, mas sofre com instabilidade e ruídos.  \n",
    "* Transições abruptas, como a de 2008, ilustram desafios reais na modelagem preditiva agrícola e reforçam a necessidade de variáveis complementares.  "
   ]
  },
  {
   "cell_type": "markdown",
   "metadata": {},
   "source": [
    "### 4\\. Discussão Crítica e Sugestões\n",
    "\n",
    "Esta seção resume os principais resultados, discute limitações observadas e propõe melhorias para futuras iterações do projeto.\n",
    "\n",
    "* **Conclusão:** O modelo MLP apresentou melhor ajuste aos dados reais, sugerindo boa capacidade do NDVI para prever a produtividade agrícola.  \n",
    "* **Limitações:** Tamanho reduzido da amostra, variabilidade nos dados reais, ausência de variáveis climáticas específicas e possíveis defasagens temporais entre NDVI e produtividade.  \n",
    "* **Sugestões de melhorias:**  \n",
    "  * Incluir variáveis climáticas (precipitação, temperatura  \n",
    "  * Aperfeiçoar o pré-processamento e suavização do NDVI  \n",
    "  * Testar modelos híbridos (ex: CNN-LSTM) ou com múltiplas entradas;  \n",
    "  * Avaliar janelas temporais mais curtas e correlações defasadas.  \n",
    "* **Aplicabilidade prática:** Os resultados sugerem que o uso de dados de sensoriamento remoto, como o NDVI, tem potencial para antecipar a produtividade agrícola e apoiar decisões estratégicas no campo."
   ]
  },
  {
   "cell_type": "markdown",
   "metadata": {},
   "source": [
    "### 5\\. Referências\n",
    "\n",
    "* **IBGE – SIDRA – Tabela 1613 – Produção Agrícola Municipal**  \n",
    "* **Google Earth Engine – Coleção MODIS NDVI para dados de vegetação**"
   ]
  },
  {
   "cell_type": "markdown",
   "metadata": {},
   "source": [
    "### 6\\. Repositório do Projeto\n",
    "\n",
    "**O código-fonte, os notebooks e os dados utilizados neste projeto estão disponíveis no repositório oficial no GitHub:**\n",
    "\n",
    "[**🔗 Link do repositório no GitHub**](https://github.com/luisfuturist/ec-ingredion-3)"
   ]
  }
 ],
 "metadata": {
  "language_info": {
   "name": "python"
  }
 },
 "nbformat": 4,
 "nbformat_minor": 2
}
