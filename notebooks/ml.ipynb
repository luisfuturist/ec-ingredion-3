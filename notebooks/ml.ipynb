{
 "cells": [
  {
   "cell_type": "markdown",
   "id": "8c0eb5a9",
   "metadata": {},
   "source": [
    "# FIAP - Challenge Ingredion – SPRINT 2 - Group 16"
   ]
  },
  {
   "cell_type": "markdown",
   "id": "e5ba2267",
   "metadata": {},
   "source": [
    "## 1 Machine Learning\n",
    "\n",
    "Este notebook implementa um fluxo completo de Machine Learning para previsão de produtividade agrícola, integrando dados de satélite (NDVI) e \n",
    "históricos de produção. As principais libs para construcao e implementacao do modelo.\n",
    "\n",
    "Utilizando o PyTorch para construção de modelos MLP e LSTM e otimização de hardware (GPU via CUDA, quando disponível). A estrutura inclui: pré-processamento avançado de séries temporais, normalização de dados, criação de janelas temporais customizadas, treinamento supervisionado com validação cruzada temporal e avaliação comparativa de modelos. A definição explícita do dispositivo (device) assegura que operações tensoriais sejam aceleradas por GPU, essencial para treinar redes neurais complexas com eficiência."
   ]
  },
  {
   "cell_type": "markdown",
   "id": "81c2b3f2",
   "metadata": {},
   "source": [
    "### 1.1 Importando Bibliotecas"
   ]
  },
  {
   "cell_type": "code",
   "execution_count": 1,
   "id": "2a87f97f",
   "metadata": {},
   "outputs": [
    {
     "name": "stderr",
     "output_type": "stream",
     "text": [
      "/home/bruno/anaconda3/envs/fiap/lib/python3.11/site-packages/torch/utils/_pytree.py:185: FutureWarning: optree is installed but the version is too old to support PyTorch Dynamo in C++ pytree. C++ pytree support is disabled. Please consider upgrading optree using `python3 -m pip install --upgrade 'optree>=0.13.0'`.\n",
      "  warnings.warn(\n"
     ]
    }
   ],
   "source": [
    "import numpy as np\n",
    "import pandas as pd\n",
    "import matplotlib.pyplot as plt\n",
    "\n",
    "import os\n",
    "from datetime import datetime\n",
    "from typing import Tuple\n",
    "\n",
    "from tqdm import trange\n",
    "\n",
    "import torch\n",
    "import torch.nn as nn\n",
    "import torch.optim as optim\n",
    "from sklearn.preprocessing import StandardScaler"
   ]
  },
  {
   "cell_type": "markdown",
   "id": "f9995d28",
   "metadata": {},
   "source": [
    "### 1.2 Setup"
   ]
  },
  {
   "cell_type": "code",
   "execution_count": 2,
   "id": "6b20ba3a",
   "metadata": {},
   "outputs": [
    {
     "data": {
      "text/plain": [
       "device(type='cuda')"
      ]
     },
     "execution_count": 2,
     "metadata": {},
     "output_type": "execute_result"
    }
   ],
   "source": [
    "torch.manual_seed(1)\n",
    "np.random.seed(1)\n",
    "device = torch.device(\"cuda\" if torch.cuda.is_available() else \"cpu\")\n",
    "device"
   ]
  },
  {
   "cell_type": "markdown",
   "id": "5f916e16",
   "metadata": {},
   "source": [
    "### 1.3 Carrendo Caminho de Dados Processados"
   ]
  },
  {
   "cell_type": "code",
   "execution_count": 3,
   "id": "5af7b6a9",
   "metadata": {},
   "outputs": [],
   "source": [
    "NDVI_PATH = \"../data/PROCESSED/ndvi.csv\"\n",
    "PROD_PATH = \"../data/PROCESSED/manhuacu.csv\"\n",
    "\n",
    "MLP_MODEL_PATH = \"../models/mlp.pth\"\n",
    "LSTM_MODEL_PATH = \"../models/lstm.pth\""
   ]
  },
  {
   "cell_type": "markdown",
   "id": "034926fc",
   "metadata": {},
   "source": [
    "### 1.4 Hiperparâmetros\n",
    "\n",
    "A configuração dos hiperparâmetros foi ajustada para otimizar o desempenho dos modelos MLP e LSTM, com o MLP utilizando uma janela temporal menor (5 observações) focada em padrões anuais, taxa de aprendizado de 2e-3, 300 épocas e arquitetura 32→16 neurônios, enquanto o LSTM emprega janela ampliada (20 observações) para capturar dependências temporais longas, com 2 camadas recorrentes (32 neurônios cada), dropout de 20% para regularização, taxa de aprendizado menor (5e-5) e treinamento prolongado (1000 épocas), sendo que ambas arquiteturas demonstram resultados consistentes (loss de validação ~0.19 e ~0.21 respectivamente), com configurações otimizadas mantendo batch sizes específicos (4 para MLP, 16 para LSTM) para equilibrar eficiência computacional e estabilidade do treinamento."
   ]
  },
  {
   "cell_type": "code",
   "execution_count": 4,
   "id": "ba18259d",
   "metadata": {},
   "outputs": [],
   "source": [
    "# MLP Hyperparameters\n",
    "MLP_WINDOW_SIZE = 5\n",
    "MLP_BATCH_SIZE = 4\n",
    "MLP_BASE_HIDDEN_SIZE = 32\n",
    "MLP_DROPOUT = 0.12\n",
    "MLP_EPOCHS = 300\n",
    "MLP_LEARNING_RATE = 2e-3\n",
    "\n",
    "# Best MLP Hyperparameters\n",
    "# MLP_WINDOW_SIZE = 10\n",
    "# MLP_BATCH_SIZE = 4\n",
    "# MLP_BASE_HIDDEN_SIZE = 32\n",
    "# MLP_EPOCHS = 300\n",
    "# MLP_LEARNING_RATE = 2e-3\n",
    "\n",
    "# Validation Loss: 0.1911\n",
    "\n",
    "# LSTM Hyperparameters\n",
    "LSTM_WINDOW_SIZE = 6\n",
    "LSTM_HIDDEN_SIZE = 21\n",
    "LSTM_NUM_LAYERS = 2\n",
    "LSTM_DROPOUT = 0.1355\n",
    "LSTM_EPOCHS = 200\n",
    "LSTM_BATCH_SIZE = 8\n",
    "LSTM_LEARNING_RATE = 5e-3\n",
    "\n",
    "# Best LSTM Hyperparameters So Far\n",
    "# LSTM_WINDOW_SIZE = 20\n",
    "# LSTM_HIDDEN_SIZE = 32\n",
    "# LSTM_NUM_LAYERS = 2\n",
    "# LSTM_DROPOUT = 0.2\n",
    "# LSTM_EPOCHS = 1000\n",
    "# LSTM_BATCH_SIZE = 16\n",
    "# LSTM_LEARNING_RATE = 5e-5\n",
    "\n",
    "# Validation Loss: 0.2122\n",
    "\n",
    "# Computation\n",
    "LSTM_DROPOUT = LSTM_DROPOUT if LSTM_NUM_LAYERS > 1 else 0"
   ]
  },
  {
   "cell_type": "markdown",
   "id": "e85e11b6",
   "metadata": {},
   "source": [
    "### 1.5 Carregando e Pré-processando os Dados"
   ]
  },
  {
   "cell_type": "markdown",
   "id": "00fcf072",
   "metadata": {},
   "source": [
    "#### 1.5.1 Preservando a Natureza Cíclica dos Dados Temporais\n",
    "\n",
    "Este bloco implementa uma técnica para transformar datas em representações numéricas que preservam a natureza cíclica do tempo. As funções convertem:\n",
    "\n",
    "1. Datas em posições angulares ao longo do ano (via seno/cosseno)\n",
    "2. Tratam automaticamente anos bissextos\n",
    "3. Geram saídas normalizadas que evitam descontinuidades entre dezembro/janeiro\n",
    "\n",
    "**Testes de exemplo** mostram a conversão para três datas-chave:\n",
    "- 01/01: início do ciclo (0.0, 1.0)\n",
    "- 01/06: meio do ano (0.5, 0.0) \n",
    "- 31/12: fim do ciclo (~1.0, ~1.0)\n",
    "\n",
    "A abordagem é ideal para modelos de ML que precisam entender padrões sazonais em dados temporais."
   ]
  },
  {
   "cell_type": "code",
   "execution_count": 5,
   "id": "87a22a73",
   "metadata": {},
   "outputs": [
    {
     "name": "stdout",
     "output_type": "stream",
     "text": [
      "Encoding date 2020-01-01\n",
      "(0.0, 1.0)\n",
      "\n",
      "\n",
      "Encoding date 2020-06-01\n",
      "(0.5074150932938454, -0.8617017599480682)\n",
      "\n",
      "\n",
      "Encoding date 2020-12-31\n",
      "(-0.017166329754707492, 0.9998526477050269)\n",
      "\n",
      "\n"
     ]
    }
   ],
   "source": [
    "def get_day_of_year_index(date: datetime):\n",
    "    \"\"\"Convert date to day of year.\"\"\"\n",
    "    return datetime(date.year, date.month, date.day).timetuple().tm_yday - 1\n",
    "\n",
    "\n",
    "def get_sin_cos(x: float):\n",
    "    \"\"\"Convert x to sin and cos.\"\"\"\n",
    "    rad = 2 * np.pi * x\n",
    "    return (np.sin(rad), np.cos(rad))\n",
    "\n",
    "\n",
    "def encode_date(date: datetime):\n",
    "    is_leap_year = 1 if date.year % 4 == 0 else 0\n",
    "    total_year_days = 366 if is_leap_year else 365\n",
    "    day_index = get_day_of_year_index(date)\n",
    "    return get_sin_cos(day_index / total_year_days)\n",
    "\n",
    "\n",
    "# Test\n",
    "print(\"Encoding date 2020-01-01\")\n",
    "print(encode_date(datetime(2020, 1, 1)))  # (0.0, 1.0)\n",
    "print(\"\\n\")\n",
    "print(\"Encoding date 2020-06-01\")\n",
    "print(encode_date(datetime(2020, 6, 1)))  # (0.5, 0.0)\n",
    "print(\"\\n\")\n",
    "print(\"Encoding date 2020-12-31\")\n",
    "print(encode_date(datetime(2020, 12, 31)))  # (0.9999999999999999, 1.0)\n",
    "print(\"\\n\")"
   ]
  },
  {
   "cell_type": "markdown",
   "id": "ab7edfc9",
   "metadata": {},
   "source": [
    "#### 1.5.2 Processamento de Dados de Produtividade\n",
    "\n",
    "**Essa padronização é crucial para os modelos MLP e LSTM**, realizando a codificação cíclica preserva sazonalidades que as redes neurais podem aprender, a filtragem temporal garante consistência com os dados agrícolas e a ordenação é essencial para o funcionamento correto das janelas temporais usadas nas LSTMs.\n",
    "\n",
    "**Pré-processamento do NDVI:** Carrega os dados de vegetação, adiciona contagem de observações anuais, aplica codificação cíclica às datas, filtra o período (2000-2023) e ordena cronologicamente. "
   ]
  },
  {
   "cell_type": "code",
   "execution_count": 6,
   "id": "c1d582e4",
   "metadata": {},
   "outputs": [
    {
     "data": {
      "application/vnd.microsoft.datawrangler.viewer.v0+json": {
       "columns": [
        {
         "name": "index",
         "rawType": "int64",
         "type": "integer"
        },
        {
         "name": "Data",
         "rawType": "object",
         "type": "string"
        },
        {
         "name": "NDVI",
         "rawType": "float64",
         "type": "float"
        },
        {
         "name": "Year",
         "rawType": "int64",
         "type": "integer"
        },
        {
         "name": "N_Observations",
         "rawType": "int64",
         "type": "integer"
        },
        {
         "name": "Date_sin",
         "rawType": "float64",
         "type": "float"
        },
        {
         "name": "Date_cos",
         "rawType": "float64",
         "type": "float"
        }
       ],
       "ref": "cb6ee631-012a-4c47-9fb4-6a33d26ef678",
       "rows": [
        [
         "0",
         "2000-02-18",
         "0.4820575065222545",
         "2000",
         "20",
         "0.7338853664321991",
         "0.6792733388972931"
        ],
        [
         "1",
         "2000-03-05",
         "0.4761601075183806",
         "2000",
         "20",
         "0.8906165093267404",
         "0.4547551355561058"
        ],
        [
         "2",
         "2000-03-21",
         "0.4838060716262155",
         "2000",
         "20",
         "0.9805753940631429",
         "0.19614254142819698"
        ],
        [
         "3",
         "2000-04-06",
         "0.4959764803541779",
         "2000",
         "20",
         "0.9970175264485267",
         "-0.0771754621266464"
        ],
        [
         "4",
         "2000-04-22",
         "0.4686062613645346",
         "2000",
         "20",
         "0.9387101892619443",
         "-0.3447073839879337"
        ]
       ],
       "shape": {
        "columns": 6,
        "rows": 5
       }
      },
      "text/html": [
       "<div>\n",
       "<style scoped>\n",
       "    .dataframe tbody tr th:only-of-type {\n",
       "        vertical-align: middle;\n",
       "    }\n",
       "\n",
       "    .dataframe tbody tr th {\n",
       "        vertical-align: top;\n",
       "    }\n",
       "\n",
       "    .dataframe thead th {\n",
       "        text-align: right;\n",
       "    }\n",
       "</style>\n",
       "<table border=\"1\" class=\"dataframe\">\n",
       "  <thead>\n",
       "    <tr style=\"text-align: right;\">\n",
       "      <th></th>\n",
       "      <th>Data</th>\n",
       "      <th>NDVI</th>\n",
       "      <th>Year</th>\n",
       "      <th>N_Observations</th>\n",
       "      <th>Date_sin</th>\n",
       "      <th>Date_cos</th>\n",
       "    </tr>\n",
       "  </thead>\n",
       "  <tbody>\n",
       "    <tr>\n",
       "      <th>0</th>\n",
       "      <td>2000-02-18</td>\n",
       "      <td>0.482058</td>\n",
       "      <td>2000</td>\n",
       "      <td>20</td>\n",
       "      <td>0.733885</td>\n",
       "      <td>0.679273</td>\n",
       "    </tr>\n",
       "    <tr>\n",
       "      <th>1</th>\n",
       "      <td>2000-03-05</td>\n",
       "      <td>0.476160</td>\n",
       "      <td>2000</td>\n",
       "      <td>20</td>\n",
       "      <td>0.890617</td>\n",
       "      <td>0.454755</td>\n",
       "    </tr>\n",
       "    <tr>\n",
       "      <th>2</th>\n",
       "      <td>2000-03-21</td>\n",
       "      <td>0.483806</td>\n",
       "      <td>2000</td>\n",
       "      <td>20</td>\n",
       "      <td>0.980575</td>\n",
       "      <td>0.196143</td>\n",
       "    </tr>\n",
       "    <tr>\n",
       "      <th>3</th>\n",
       "      <td>2000-04-06</td>\n",
       "      <td>0.495976</td>\n",
       "      <td>2000</td>\n",
       "      <td>20</td>\n",
       "      <td>0.997018</td>\n",
       "      <td>-0.077175</td>\n",
       "    </tr>\n",
       "    <tr>\n",
       "      <th>4</th>\n",
       "      <td>2000-04-22</td>\n",
       "      <td>0.468606</td>\n",
       "      <td>2000</td>\n",
       "      <td>20</td>\n",
       "      <td>0.938710</td>\n",
       "      <td>-0.344707</td>\n",
       "    </tr>\n",
       "  </tbody>\n",
       "</table>\n",
       "</div>"
      ],
      "text/plain": [
       "         Data      NDVI  Year  N_Observations  Date_sin  Date_cos\n",
       "0  2000-02-18  0.482058  2000              20  0.733885  0.679273\n",
       "1  2000-03-05  0.476160  2000              20  0.890617  0.454755\n",
       "2  2000-03-21  0.483806  2000              20  0.980575  0.196143\n",
       "3  2000-04-06  0.495976  2000              20  0.997018 -0.077175\n",
       "4  2000-04-22  0.468606  2000              20  0.938710 -0.344707"
      ]
     },
     "execution_count": 6,
     "metadata": {},
     "output_type": "execute_result"
    }
   ],
   "source": [
    "NDVI = pd.read_csv(NDVI_PATH)\n",
    "\n",
    "NDVI[\"N_Observations\"] = NDVI.groupby(\"Year\")[\"Data\"].transform(\"count\")\n",
    "\n",
    "NDVI[[\"Date_sin\", \"Date_cos\"]] = NDVI[\"Data\"].apply(\n",
    "    lambda x: pd.Series(encode_date(datetime.strptime(x, \"%Y-%m-%d\")))\n",
    ")\n",
    "\n",
    "# Assert order by Data (ascending)\n",
    "NDVI = NDVI.sort_values(by=\"Data\", ascending=True)\n",
    "\n",
    "NDVI = NDVI[(NDVI[\"Year\"] >= 2000) & (NDVI[\"Year\"] <= 2023)]\n",
    "\n",
    "NDVI.head()"
   ]
  },
  {
   "cell_type": "markdown",
   "id": "2772f622",
   "metadata": {},
   "source": [
    "#### 1.5.3 Pré-processando os Dados de Produção\n",
    "\n",
    "Carrega os dados agrícolas e filtra o período entre 2000-2023 para manter consistência temporal com os dados de NDVI. Essa etapa é fundamental para garantir que os modelos MLP e LSTM trabalhem com o mesmo intervalo temporal, permitindo correlações precisas entre produtividade e índices de vegetação ao longo dos anos. O código comentado mostra uma opção de normalização que poderia ser utilizada para escalar os valores entre 0 e 1."
   ]
  },
  {
   "cell_type": "code",
   "execution_count": 7,
   "id": "3b3ff3d5",
   "metadata": {},
   "outputs": [
    {
     "data": {
      "application/vnd.microsoft.datawrangler.viewer.v0+json": {
       "columns": [
        {
         "name": "index",
         "rawType": "int64",
         "type": "integer"
        },
        {
         "name": "Year",
         "rawType": "int64",
         "type": "integer"
        },
        {
         "name": "Production (kg)",
         "rawType": "int64",
         "type": "integer"
        },
        {
         "name": "Area (ha)",
         "rawType": "int64",
         "type": "integer"
        },
        {
         "name": "Productivity (kg/ha)",
         "rawType": "float64",
         "type": "float"
        }
       ],
       "ref": "e518a855-55a4-41d3-9102-8f76d31bade0",
       "rows": [
        [
         "26",
         "2000",
         "17424000",
         "13200",
         "1320.0"
        ],
        [
         "27",
         "2001",
         "17424000",
         "13200",
         "1320.0"
        ],
        [
         "28",
         "2002",
         "26325000",
         "17550",
         "1500.0"
        ],
        [
         "29",
         "2003",
         "13533000",
         "17350",
         "780.0"
        ],
        [
         "30",
         "2004",
         "16560000",
         "17250",
         "960.0"
        ]
       ],
       "shape": {
        "columns": 4,
        "rows": 5
       }
      },
      "text/html": [
       "<div>\n",
       "<style scoped>\n",
       "    .dataframe tbody tr th:only-of-type {\n",
       "        vertical-align: middle;\n",
       "    }\n",
       "\n",
       "    .dataframe tbody tr th {\n",
       "        vertical-align: top;\n",
       "    }\n",
       "\n",
       "    .dataframe thead th {\n",
       "        text-align: right;\n",
       "    }\n",
       "</style>\n",
       "<table border=\"1\" class=\"dataframe\">\n",
       "  <thead>\n",
       "    <tr style=\"text-align: right;\">\n",
       "      <th></th>\n",
       "      <th>Year</th>\n",
       "      <th>Production (kg)</th>\n",
       "      <th>Area (ha)</th>\n",
       "      <th>Productivity (kg/ha)</th>\n",
       "    </tr>\n",
       "  </thead>\n",
       "  <tbody>\n",
       "    <tr>\n",
       "      <th>26</th>\n",
       "      <td>2000</td>\n",
       "      <td>17424000</td>\n",
       "      <td>13200</td>\n",
       "      <td>1320.0</td>\n",
       "    </tr>\n",
       "    <tr>\n",
       "      <th>27</th>\n",
       "      <td>2001</td>\n",
       "      <td>17424000</td>\n",
       "      <td>13200</td>\n",
       "      <td>1320.0</td>\n",
       "    </tr>\n",
       "    <tr>\n",
       "      <th>28</th>\n",
       "      <td>2002</td>\n",
       "      <td>26325000</td>\n",
       "      <td>17550</td>\n",
       "      <td>1500.0</td>\n",
       "    </tr>\n",
       "    <tr>\n",
       "      <th>29</th>\n",
       "      <td>2003</td>\n",
       "      <td>13533000</td>\n",
       "      <td>17350</td>\n",
       "      <td>780.0</td>\n",
       "    </tr>\n",
       "    <tr>\n",
       "      <th>30</th>\n",
       "      <td>2004</td>\n",
       "      <td>16560000</td>\n",
       "      <td>17250</td>\n",
       "      <td>960.0</td>\n",
       "    </tr>\n",
       "  </tbody>\n",
       "</table>\n",
       "</div>"
      ],
      "text/plain": [
       "    Year  Production (kg)  Area (ha)  Productivity (kg/ha)\n",
       "26  2000         17424000      13200                1320.0\n",
       "27  2001         17424000      13200                1320.0\n",
       "28  2002         26325000      17550                1500.0\n",
       "29  2003         13533000      17350                 780.0\n",
       "30  2004         16560000      17250                 960.0"
      ]
     },
     "execution_count": 7,
     "metadata": {},
     "output_type": "execute_result"
    }
   ],
   "source": [
    "PROD = pd.read_csv(PROD_PATH)\n",
    "PROD = PROD[(PROD[\"Year\"] >= 2000) & (PROD[\"Year\"] <= 2023)]\n",
    "# max_productivity = PROD[\"Productivity (kg/ha)\"].max()\n",
    "# PROD[\"Normalized_productivity\"] = PROD[\"Productivity (kg/ha)\"] / max_productivity\n",
    "PROD.head()"
   ]
  },
  {
   "cell_type": "markdown",
   "id": "111163ad",
   "metadata": {},
   "source": [
    "### 1.6 Preparar Datasets\n",
    "\n",
    "#### 1.6.1 **Normalização dos Dados de NDVI e Produtividade**\n",
    "\n",
    "**Objetivo:**  \n",
    "\n",
    "Padronizar as escalas das features para otimizar o treinamento dos modelos MLP e LSTM.\n",
    "\n",
    "**Processo realizado:**\n",
    "\n",
    "1. **NDVI:**\n",
    "   - Aplica `StandardScaler` nas colunas NDVI e Year\n",
    "   - Transforma valores originais (NDVI: -1 a 1, Year: 2000-2023) para escala padrão (média=0, std=1)\n",
    "\n",
    "2. **Produtividade:**\n",
    "   - Normaliza \"Productivity (kg/ha)\" e Year usando mesma abordagem\n",
    "   - Mantém consistência com a normalização do NDVI para o ano\n",
    "\n",
    "**Por que é essencial?**\n",
    "\n",
    "- Garante que todas as features contribuam igualmente para o aprendizado\n",
    "- Acelera a convergência dos modelos neurais\n",
    "- Permite comparação direta entre:\n",
    "  - Dados de vegetação (NDVI)\n",
    "  - Dados agrícolas (Produtividade)\n",
    "- Criticamente importante para:\n",
    "  - Algoritmos sensíveis à escala (redes neurais)\n",
    "  - Integração de múltiplas fontes de dados temporais\n",
    "\n",
    "**Resultado Final:**\n",
    "\n",
    "- `NDVI[[\"NDVI_norm\", \"Year_norm\"]]`: Features padronizadas para o modelo\n",
    "- `PROD[[\"Productivity_norm\", \"Year_norm\"]]`: Variável alvo normalizada\n",
    "- Compatibilidade total entre os conjuntos de dados"
   ]
  },
  {
   "cell_type": "code",
   "execution_count": 8,
   "id": "1df0480b",
   "metadata": {},
   "outputs": [
    {
     "data": {
      "application/vnd.microsoft.datawrangler.viewer.v0+json": {
       "columns": [
        {
         "name": "index",
         "rawType": "int64",
         "type": "integer"
        },
        {
         "name": "Data",
         "rawType": "object",
         "type": "string"
        },
        {
         "name": "NDVI",
         "rawType": "float64",
         "type": "float"
        },
        {
         "name": "Year",
         "rawType": "int64",
         "type": "integer"
        },
        {
         "name": "N_Observations",
         "rawType": "int64",
         "type": "integer"
        },
        {
         "name": "Date_sin",
         "rawType": "float64",
         "type": "float"
        },
        {
         "name": "Date_cos",
         "rawType": "float64",
         "type": "float"
        },
        {
         "name": "Year_norm",
         "rawType": "float64",
         "type": "float"
        },
        {
         "name": "NDVI_norm",
         "rawType": "float64",
         "type": "float"
        }
       ],
       "ref": "b5a03c70-9da9-454e-8217-4e38dbdeb785",
       "rows": [
        [
         "0",
         "2000-02-18",
         "0.4820575065222545",
         "2000",
         "20",
         "0.7338853664321991",
         "0.6792733388972931",
         "-1.6785638398882925",
         "1.290738835490824"
        ],
        [
         "1",
         "2000-03-05",
         "0.4761601075183806",
         "2000",
         "20",
         "0.8906165093267404",
         "0.4547551355561058",
         "-1.6785638398882925",
         "1.2017515087700967"
        ],
        [
         "2",
         "2000-03-21",
         "0.4838060716262155",
         "2000",
         "20",
         "0.9805753940631429",
         "0.19614254142819698",
         "-1.6785638398882925",
         "1.3171233711304218"
        ],
        [
         "3",
         "2000-04-06",
         "0.4959764803541779",
         "2000",
         "20",
         "0.9970175264485267",
         "-0.0771754621266464",
         "-1.6785638398882925",
         "1.5007657085555437"
        ],
        [
         "4",
         "2000-04-22",
         "0.4686062613645346",
         "2000",
         "20",
         "0.9387101892619443",
         "-0.3447073839879337",
         "-1.6785638398882925",
         "1.0877696372282775"
        ]
       ],
       "shape": {
        "columns": 8,
        "rows": 5
       }
      },
      "text/html": [
       "<div>\n",
       "<style scoped>\n",
       "    .dataframe tbody tr th:only-of-type {\n",
       "        vertical-align: middle;\n",
       "    }\n",
       "\n",
       "    .dataframe tbody tr th {\n",
       "        vertical-align: top;\n",
       "    }\n",
       "\n",
       "    .dataframe thead th {\n",
       "        text-align: right;\n",
       "    }\n",
       "</style>\n",
       "<table border=\"1\" class=\"dataframe\">\n",
       "  <thead>\n",
       "    <tr style=\"text-align: right;\">\n",
       "      <th></th>\n",
       "      <th>Data</th>\n",
       "      <th>NDVI</th>\n",
       "      <th>Year</th>\n",
       "      <th>N_Observations</th>\n",
       "      <th>Date_sin</th>\n",
       "      <th>Date_cos</th>\n",
       "      <th>Year_norm</th>\n",
       "      <th>NDVI_norm</th>\n",
       "    </tr>\n",
       "  </thead>\n",
       "  <tbody>\n",
       "    <tr>\n",
       "      <th>0</th>\n",
       "      <td>2000-02-18</td>\n",
       "      <td>0.482058</td>\n",
       "      <td>2000</td>\n",
       "      <td>20</td>\n",
       "      <td>0.733885</td>\n",
       "      <td>0.679273</td>\n",
       "      <td>-1.678564</td>\n",
       "      <td>1.290739</td>\n",
       "    </tr>\n",
       "    <tr>\n",
       "      <th>1</th>\n",
       "      <td>2000-03-05</td>\n",
       "      <td>0.476160</td>\n",
       "      <td>2000</td>\n",
       "      <td>20</td>\n",
       "      <td>0.890617</td>\n",
       "      <td>0.454755</td>\n",
       "      <td>-1.678564</td>\n",
       "      <td>1.201752</td>\n",
       "    </tr>\n",
       "    <tr>\n",
       "      <th>2</th>\n",
       "      <td>2000-03-21</td>\n",
       "      <td>0.483806</td>\n",
       "      <td>2000</td>\n",
       "      <td>20</td>\n",
       "      <td>0.980575</td>\n",
       "      <td>0.196143</td>\n",
       "      <td>-1.678564</td>\n",
       "      <td>1.317123</td>\n",
       "    </tr>\n",
       "    <tr>\n",
       "      <th>3</th>\n",
       "      <td>2000-04-06</td>\n",
       "      <td>0.495976</td>\n",
       "      <td>2000</td>\n",
       "      <td>20</td>\n",
       "      <td>0.997018</td>\n",
       "      <td>-0.077175</td>\n",
       "      <td>-1.678564</td>\n",
       "      <td>1.500766</td>\n",
       "    </tr>\n",
       "    <tr>\n",
       "      <th>4</th>\n",
       "      <td>2000-04-22</td>\n",
       "      <td>0.468606</td>\n",
       "      <td>2000</td>\n",
       "      <td>20</td>\n",
       "      <td>0.938710</td>\n",
       "      <td>-0.344707</td>\n",
       "      <td>-1.678564</td>\n",
       "      <td>1.087770</td>\n",
       "    </tr>\n",
       "  </tbody>\n",
       "</table>\n",
       "</div>"
      ],
      "text/plain": [
       "         Data      NDVI  Year  N_Observations  Date_sin  Date_cos  Year_norm  \\\n",
       "0  2000-02-18  0.482058  2000              20  0.733885  0.679273  -1.678564   \n",
       "1  2000-03-05  0.476160  2000              20  0.890617  0.454755  -1.678564   \n",
       "2  2000-03-21  0.483806  2000              20  0.980575  0.196143  -1.678564   \n",
       "3  2000-04-06  0.495976  2000              20  0.997018 -0.077175  -1.678564   \n",
       "4  2000-04-22  0.468606  2000              20  0.938710 -0.344707  -1.678564   \n",
       "\n",
       "   NDVI_norm  \n",
       "0   1.290739  \n",
       "1   1.201752  \n",
       "2   1.317123  \n",
       "3   1.500766  \n",
       "4   1.087770  "
      ]
     },
     "execution_count": 8,
     "metadata": {},
     "output_type": "execute_result"
    }
   ],
   "source": [
    "# Normalizer dados NDVI\n",
    "NDVI[\"Year_norm\"] = NDVI[\"Year\"].copy()\n",
    "\n",
    "ndvi_scaler = StandardScaler().fit(NDVI[[\"NDVI\", \"Year\"]].values)\n",
    "NDVI[[\"NDVI_norm\", \"Year_norm\"]] = ndvi_scaler.transform(NDVI[[\"NDVI\", \"Year\"]].values)\n",
    "\n",
    "NDVI.head()"
   ]
  },
  {
   "cell_type": "code",
   "execution_count": 9,
   "id": "c6a519c6",
   "metadata": {},
   "outputs": [
    {
     "data": {
      "application/vnd.microsoft.datawrangler.viewer.v0+json": {
       "columns": [
        {
         "name": "index",
         "rawType": "int64",
         "type": "integer"
        },
        {
         "name": "Year",
         "rawType": "int64",
         "type": "integer"
        },
        {
         "name": "Production (kg)",
         "rawType": "int64",
         "type": "integer"
        },
        {
         "name": "Area (ha)",
         "rawType": "int64",
         "type": "integer"
        },
        {
         "name": "Productivity (kg/ha)",
         "rawType": "float64",
         "type": "float"
        },
        {
         "name": "Year_norm",
         "rawType": "float64",
         "type": "float"
        },
        {
         "name": "Productivity_norm",
         "rawType": "float64",
         "type": "float"
        }
       ],
       "ref": "5115e873-4b25-484b-87c7-9e0a1bdf3b5c",
       "rows": [
        [
         "26",
         "2000",
         "17424000",
         "13200",
         "1320.0",
         "-1.661324772583615",
         "0.42592550604338786"
        ],
        [
         "27",
         "2001",
         "17424000",
         "13200",
         "1320.0",
         "-1.516861748880692",
         "0.42592550604338786"
        ],
        [
         "28",
         "2002",
         "26325000",
         "17550",
         "1500.0",
         "-1.372398725177769",
         "1.1718936384400547"
        ],
        [
         "29",
         "2003",
         "13533000",
         "17350",
         "780.0",
         "-1.227935701474846",
         "-1.8119788911466124"
        ],
        [
         "30",
         "2004",
         "16560000",
         "17250",
         "960.0",
         "-1.0834726777719228",
         "-1.0660107587499457"
        ]
       ],
       "shape": {
        "columns": 6,
        "rows": 5
       }
      },
      "text/html": [
       "<div>\n",
       "<style scoped>\n",
       "    .dataframe tbody tr th:only-of-type {\n",
       "        vertical-align: middle;\n",
       "    }\n",
       "\n",
       "    .dataframe tbody tr th {\n",
       "        vertical-align: top;\n",
       "    }\n",
       "\n",
       "    .dataframe thead th {\n",
       "        text-align: right;\n",
       "    }\n",
       "</style>\n",
       "<table border=\"1\" class=\"dataframe\">\n",
       "  <thead>\n",
       "    <tr style=\"text-align: right;\">\n",
       "      <th></th>\n",
       "      <th>Year</th>\n",
       "      <th>Production (kg)</th>\n",
       "      <th>Area (ha)</th>\n",
       "      <th>Productivity (kg/ha)</th>\n",
       "      <th>Year_norm</th>\n",
       "      <th>Productivity_norm</th>\n",
       "    </tr>\n",
       "  </thead>\n",
       "  <tbody>\n",
       "    <tr>\n",
       "      <th>26</th>\n",
       "      <td>2000</td>\n",
       "      <td>17424000</td>\n",
       "      <td>13200</td>\n",
       "      <td>1320.0</td>\n",
       "      <td>-1.661325</td>\n",
       "      <td>0.425926</td>\n",
       "    </tr>\n",
       "    <tr>\n",
       "      <th>27</th>\n",
       "      <td>2001</td>\n",
       "      <td>17424000</td>\n",
       "      <td>13200</td>\n",
       "      <td>1320.0</td>\n",
       "      <td>-1.516862</td>\n",
       "      <td>0.425926</td>\n",
       "    </tr>\n",
       "    <tr>\n",
       "      <th>28</th>\n",
       "      <td>2002</td>\n",
       "      <td>26325000</td>\n",
       "      <td>17550</td>\n",
       "      <td>1500.0</td>\n",
       "      <td>-1.372399</td>\n",
       "      <td>1.171894</td>\n",
       "    </tr>\n",
       "    <tr>\n",
       "      <th>29</th>\n",
       "      <td>2003</td>\n",
       "      <td>13533000</td>\n",
       "      <td>17350</td>\n",
       "      <td>780.0</td>\n",
       "      <td>-1.227936</td>\n",
       "      <td>-1.811979</td>\n",
       "    </tr>\n",
       "    <tr>\n",
       "      <th>30</th>\n",
       "      <td>2004</td>\n",
       "      <td>16560000</td>\n",
       "      <td>17250</td>\n",
       "      <td>960.0</td>\n",
       "      <td>-1.083473</td>\n",
       "      <td>-1.066011</td>\n",
       "    </tr>\n",
       "  </tbody>\n",
       "</table>\n",
       "</div>"
      ],
      "text/plain": [
       "    Year  Production (kg)  Area (ha)  Productivity (kg/ha)  Year_norm  \\\n",
       "26  2000         17424000      13200                1320.0  -1.661325   \n",
       "27  2001         17424000      13200                1320.0  -1.516862   \n",
       "28  2002         26325000      17550                1500.0  -1.372399   \n",
       "29  2003         13533000      17350                 780.0  -1.227936   \n",
       "30  2004         16560000      17250                 960.0  -1.083473   \n",
       "\n",
       "    Productivity_norm  \n",
       "26           0.425926  \n",
       "27           0.425926  \n",
       "28           1.171894  \n",
       "29          -1.811979  \n",
       "30          -1.066011  "
      ]
     },
     "execution_count": 9,
     "metadata": {},
     "output_type": "execute_result"
    }
   ],
   "source": [
    "# Normalizar produtividade\n",
    "PROD[\"Year_norm\"] = NDVI[\"Year\"].copy()\n",
    "\n",
    "prod_scaler = StandardScaler().fit(PROD[[\"Productivity (kg/ha)\", \"Year\"]].values)\n",
    "PROD[[\"Productivity_norm\", \"Year_norm\"]] = prod_scaler.transform(\n",
    "    PROD[[\"Productivity (kg/ha)\", \"Year\"]].values\n",
    ")\n",
    "PROD.head()"
   ]
  },
  {
   "cell_type": "markdown",
   "id": "019042cf",
   "metadata": {},
   "source": [
    "#### 1.6.2 Preparação dos Datasets para Treinamento\n",
    "\n",
    "**Estruturação de Dados Temporais:**  \n",
    "\n",
    "Implementa a classe `DatasetYearOfLast` para criar janelas temporais de NDVI alinhadas com a produtividade anual, permitindo que os modelos (MLP/LSTM) aprendam padrões sazonais. Os dados são divididos em conjuntos de treino (2000-2016), validação (2004,2010,2016,2022) e teste (2005,2011,2017,2023), com janelas customizadas (5 observações para MLP, 20 para LSTM) que mantêm a relação temporal entre vegetação e produtividade."
   ]
  },
  {
   "cell_type": "code",
   "execution_count": 10,
   "id": "896a051e",
   "metadata": {},
   "outputs": [
    {
     "name": "stdout",
     "output_type": "stream",
     "text": [
      "(tensor([[ 0.4331,  0.0000,  1.0000, -1.0979],\n",
      "        [ 0.4789,  0.2712,  0.9625, -1.0979],\n",
      "        [ 0.3686,  0.5221,  0.8529, -1.0979],\n",
      "        [ 0.4699,  0.7339,  0.6793, -1.0979],\n",
      "        [ 0.4688,  0.8906,  0.4548, -1.0979]]), tensor(-1.0660))\n",
      "\n",
      "\n",
      "(array([[ 0.37612524, -0.97326437,  0.22968774, -1.09788864],\n",
      "       [ 0.36308863, -0.87448096,  0.48505985, -1.09788864],\n",
      "       [ 0.41959682, -0.71013502,  0.70406552, -1.09788864],\n",
      "       [ 0.34801154, -0.49254807,  0.87028524, -1.09788864],\n",
      "       [ 0.48473122, -0.23803328,  0.971257  , -1.09788864]]), -1.0660107587499457)\n"
     ]
    }
   ],
   "source": [
    "class DatasetYearOfLast(torch.utils.data.Dataset):\n",
    "    def __init__(self, ndvi_df, prod_df, window_size=LSTM_WINDOW_SIZE):\n",
    "        self.ndvi_df = ndvi_df.copy().reset_index(drop=True)\n",
    "        self.window_size = window_size\n",
    "        self.prod_df = prod_df\n",
    "\n",
    "        # Prepare windows grouped by year\n",
    "        self.samples = []\n",
    "        self.available_years = ndvi_df[\"Year\"].unique().tolist()\n",
    "\n",
    "        for idx, row in self.ndvi_df.iterrows():\n",
    "            window = ndvi_df.iloc[idx : idx + window_size]\n",
    "\n",
    "            if len(window) < window_size:\n",
    "                break\n",
    "\n",
    "            last_of_window = self.ndvi_df.iloc[idx + window_size - 1]\n",
    "\n",
    "            if last_of_window[\"Year\"] == row[\"Year\"] or (\n",
    "                last_of_window[\"Year\"] == row[\"Year\"] + 1\n",
    "                and row[\"Year\"] + 1 in self.available_years\n",
    "            ):\n",
    "                self.samples.append((window, last_of_window[\"Year\"]))\n",
    "\n",
    "    def __len__(self):\n",
    "        return len(self.samples)\n",
    "\n",
    "    def __getitem__(self, idx):\n",
    "        window, year = self.samples[idx]\n",
    "        ndvi = window[[\"NDVI\", \"Date_sin\", \"Date_cos\", \"Year_norm\"]].values\n",
    "\n",
    "        prod = self.prod_df[self.prod_df[\"Year\"] == year][\"Productivity_norm\"].values[0]\n",
    "\n",
    "        return torch.tensor(ndvi, dtype=torch.float32), torch.tensor(\n",
    "            prod, dtype=torch.float32\n",
    "        )\n",
    "\n",
    "    def get_last_window_of_year(self, year) -> Tuple[np.ndarray, np.ndarray]:\n",
    "        \"\"\"\n",
    "        Retorna a última janela do ano\n",
    "        \"\"\"\n",
    "\n",
    "        ndvi = self.ndvi_df[self.ndvi_df[\"Year\"] == year]\n",
    "        if ndvi.empty:\n",
    "            raise ValueError(f\"Year {year} not found in dataset\")\n",
    "        if len(ndvi) < self.window_size:\n",
    "            raise ValueError(\n",
    "                f\"Year {year} has only {len(ndvi)} observations, less than window size {self.window_size}\"\n",
    "            )\n",
    "        return (\n",
    "            ndvi.iloc[-self.window_size :][\n",
    "                [\"NDVI\", \"Date_sin\", \"Date_cos\", \"Year_norm\"]\n",
    "            ].values,\n",
    "            self.prod_df[self.prod_df[\"Year\"] == year][\"Productivity_norm\"].values[0],\n",
    "        )\n",
    "\n",
    "\n",
    "years_validation = [2004, 2010, 2016, 2022]\n",
    "years_test = [2005, 2011, 2017, 2023]\n",
    "years_train = PROD[~PROD[\"Year\"].isin(years_validation + years_test)][\"Year\"].unique()\n",
    "\n",
    "\n",
    "# Datasets better\n",
    "mlp_train_dataset = DatasetYearOfLast(\n",
    "    NDVI[NDVI[\"Year\"].isin(years_train)], PROD, MLP_WINDOW_SIZE\n",
    ")\n",
    "mlp_validation_dataset = DatasetYearOfLast(\n",
    "    NDVI[NDVI[\"Year\"].isin(years_validation)], PROD, MLP_WINDOW_SIZE\n",
    ")\n",
    "mlp_test_dataset = DatasetYearOfLast(\n",
    "    NDVI[NDVI[\"Year\"].isin(years_test)], PROD, MLP_WINDOW_SIZE\n",
    ")\n",
    "\n",
    "lstm_train_dataset = DatasetYearOfLast(\n",
    "    NDVI[NDVI[\"Year\"].isin(years_train)], PROD, LSTM_WINDOW_SIZE\n",
    ")\n",
    "lstm_validation_dataset = DatasetYearOfLast(\n",
    "    NDVI[NDVI[\"Year\"].isin(years_validation)], PROD, LSTM_WINDOW_SIZE\n",
    ")\n",
    "lstm_test_dataset = DatasetYearOfLast(\n",
    "    NDVI[NDVI[\"Year\"].isin(years_test)], PROD, LSTM_WINDOW_SIZE\n",
    ")\n",
    "\n",
    "\n",
    "print(mlp_validation_dataset[0])\n",
    "print(\"\\n\")\n",
    "print(mlp_validation_dataset.get_last_window_of_year(2004))"
   ]
  },
  {
   "cell_type": "markdown",
   "id": "f410fd4c",
   "metadata": {},
   "source": [
    "#### 1.6.3 Validação de Consistência dos Dados\n",
    "\n",
    "**Verificação de Integridade:**  \n",
    "Realiza um teste de sanidade comparando diretamente:  \n",
    "1. Os últimos 20 registros de NDVI de 2017 do DataFrame original  \n",
    "2. A mesma janela temporal extraída pelo `DatasetYearOfLast`  \n",
    "3. Os valores de produtividade (original e normalizado)  \n",
    "\n",
    "Inclui um assert para garantir que os valores coincidam exatamente, validando a correta implementação do pré-processamento e da lógica de janelas temporais."
   ]
  },
  {
   "cell_type": "code",
   "execution_count": 11,
   "id": "bed15d25",
   "metadata": {},
   "outputs": [
    {
     "name": "stdout",
     "output_type": "stream",
     "text": [
      "Last window of 2017 in the DataFrame:\n",
      "         NDVI  Date_sin  Date_cos  Year_norm\n",
      "405  0.323114 -0.999546 -0.030120   0.789306\n",
      "406  0.339417 -0.970064  0.242850   0.789306\n",
      "407  0.417126 -0.867456  0.497513   0.789306\n",
      "408  0.377441 -0.699458  0.714673   0.789306\n",
      "409  0.446337 -0.478734  0.877960   0.789306\n",
      "410  0.400471 -0.221922  0.975065   0.789306\n",
      "\n",
      "Produtivity 2017: 1433.3878887070375\n",
      "Produtivity 2017 (normalized): 0.895835237016665\n",
      "\n",
      "Last window of 2017 in the DatasetYearOfLast (values should match exactely):\n",
      "(array([[ 0.3231135 , -0.99954628, -0.0301203 ,  0.78930578],\n",
      "       [ 0.3394167 , -0.97006392,  0.24284972,  0.78930578],\n",
      "       [ 0.41712597, -0.86745635,  0.49751329,  0.78930578],\n",
      "       [ 0.37744055, -0.69945833,  0.71467339,  0.78930578],\n",
      "       [ 0.44633691, -0.47873384,  0.87796008,  0.78930578],\n",
      "       [ 0.40047079, -0.22192151,  0.97506453,  0.78930578]]), 0.895835237016665)\n",
      "\n",
      "✅ Sanity check passed for LSTM! You can look values by yourself if you want to double check.\n"
     ]
    }
   ],
   "source": [
    "# Sanity check\n",
    "print(\"Last window of 2017 in the DataFrame:\")\n",
    "print(\n",
    "    NDVI[NDVI[\"Year\"] == 2017][[\"NDVI\", \"Date_sin\", \"Date_cos\", \"Year_norm\"]].tail(\n",
    "        LSTM_WINDOW_SIZE\n",
    "    )\n",
    ")\n",
    "\n",
    "print(\n",
    "    f\"\\nProdutivity 2017: {PROD[PROD['Year'] == 2017]['Productivity (kg/ha)'].values[0]}\"\n",
    ")\n",
    "print(\n",
    "    f\"Produtivity 2017 (normalized): {PROD[PROD['Year'] == 2017]['Productivity_norm'].values[0]}\"\n",
    ")\n",
    "\n",
    "print(f\"\\nLast window of 2017 in the DatasetYearOfLast (values should match exactely):\")\n",
    "print(lstm_test_dataset.get_last_window_of_year(2017))\n",
    "\n",
    "assert (\n",
    "    lstm_test_dataset.get_last_window_of_year(2017)[0]\n",
    "    == NDVI[NDVI[\"Year\"] == 2017][[\"NDVI\", \"Date_sin\", \"Date_cos\", \"Year_norm\"]]\n",
    "    .tail(LSTM_WINDOW_SIZE)\n",
    "    .values\n",
    ").all(), \"\\n❌ Sanity check failed! Please check the DatasetYearOfLast class\"\n",
    "print(\n",
    "    \"\\n✅ Sanity check passed for LSTM! You can look values by yourself if you want to double check.\"\n",
    ")"
   ]
  },
  {
   "cell_type": "markdown",
   "id": "13f555ed",
   "metadata": {},
   "source": [
    "#### 1.6.4 Dataset com Média Ponderada de Produtividade\n",
    "\n",
    "Foi implementada a classe DatasetWeightedAverage para estruturar os dados de entrada no formato exigido pelos modelos de aprendizagem profunda. Esta classe especializada processa sequências temporais de NDVI associando-as a valores de produtividade calculados como médias ponderadas entre os anos inicial e final de cada janela de observação.\n",
    "\n",
    "O dataset gerado contém:\n",
    "  - Features de entrada: janelas temporais de valores de NDVI normalizados, acompanhados de suas representações cíclicas (seno e cosseno da data) e do ano padronizado\n",
    "  - Variável alvo: produtividade agrícola calculada como média ponderada entre os valores normalizados dos anos inicial e final da janela, com pesos proporcionais ao número de observações em cada ano\n",
    "\n",
    "A implementação inclui a divisão dos dados em três conjuntos distintos:\n",
    "\n",
    "  - Conjunto de treinamento: dados até 2016\n",
    "  - Conjunto de validação: dados entre 2017 e 2020\n",
    "  - Conjunto de teste: dados posteriores a 2020\n",
    "\n",
    "Esta abordagem permite capturar padrões temporais complexos e transições suaves entre anos agrícolas, sendo particularmente adequada para modelos que necessitam aprender relações não lineares entre séries temporais de vegetação e produtividade agrícola. A ponderação por número de observações assegura que o modelo considere adequadamente a distribuição temporal dos dados dentro de cada janela analisada."
   ]
  },
  {
   "cell_type": "markdown",
   "id": "77800b03",
   "metadata": {},
   "source": [
    "### 1.7 Modelos de Aprendizado Profundo para Previsão de Produtividade\n",
    "\n",
    "#### 1.7.1 Visão Geral das Arquiteturas Implementadas\n",
    "\n",
    "Dois modelos de deep learning foram desenvolvidos para capturar diferentes aspectos dos dados temporais:\n",
    "\n",
    "- **MLP (Multilayer Perceptron)**  \n",
    "   Rede neural feed-forward com arquitetura 32→16 neurônios, projetada para identificar padrões anuais em janelas temporais curtas (5 observações). Utiliza funções ReLU nas camadas ocultas e Tanh amplificada na saída, sendo otimizada para aprender relações não-lineares diretas entre as features de NDVI (incluindo sua representação cíclica) e a produtividade agrícola.\n",
    "\n",
    "- **LSTM (Long Short-Term Memory)**  \n",
    "   Rede recorrente com 2 camadas e 32 unidades ocultas por camada, especializada em capturar dependências temporais de longo prazo em janelas estendidas (20 observações). Incorpora mecanismos de esquecimento (dropout de 20%) para evitar overfitting e processa sequências temporais completas, mantendo memória de estados anteriores para modelar a evolução sazonal da vegetação.\n",
    "\n",
    "- **Integração com os Datasets Preparados:**  \n",
    "Ambos os modelos utilizam como entrada os datasets estruturados nas etapas anteriores:\n",
    "  - Features: Janelas temporais contendo NDVI normalizado, representação cíclica de datas (seno/cosseno) e ano padronizado  \n",
    "  - Target:  \n",
    "    - Para `DatasetYearOfLast`: Produtividade do último ano da janela  \n",
    "    - Para `DatasetWeightedAverage`: Média ponderada entre anos inicial/final  \n",
    "\n",
    "- **Estratégia de Treinamento:**  \n",
    "  - Otimizador Adam com taxas de aprendizagem diferenciadas (2e-3 para MLP, 5e-5 para LSTM)  \n",
    "  - Loss MSE para preservar a escala das previsões de produtividade  \n",
    "  - Early stopping baseado no erro de validação  \n",
    "  - Batch sizes adaptados à complexidade de cada modelo (4 para MLP, 16 para LSTM)  \n",
    "\n",
    "Esta seção detalhará a implementação, ajuste fino e desempenho comparativo destas arquiteturas nos diferentes conjuntos de dados preparados."
   ]
  },
  {
   "cell_type": "markdown",
   "id": "9c93638a",
   "metadata": {},
   "source": [
    "#### 1.7.2 Implementação e Treinamento do MLP\n",
    "\n",
    "##### Arquitetura da Rede\n",
    "\n",
    "A estrutura do MLP foi definida como uma sequência de camadas densas intercaladas com ativações não-lineares:\n",
    "\n",
    "- **Camada de Entrada:** `Flatten` para transformar janelas temporais 3D em vetores 1D (formato: `[batch_size, MLP_WINDOW_SIZE × 4]`)\n",
    "- **Camadas Ocultas:** \n",
    "  - 32 neurônios → ReLU\n",
    "  - 16 neurônios → ReLU  \n",
    "- **Camada de Saída:** \n",
    "  - 1 neurônio com ativação `AmplifiedTanh` (fator 1.5) para mapeamento em escala ampliada\n",
    "\n",
    "##### Inicialização e Configuração\n",
    "\n",
    "- **Inicialização de Pesos:** Distribuição normal (μ=0, σ=0.01) para evitar saturação inicial\n",
    "- **Otimização:** Adam com taxa de aprendizado 2e-3\n",
    "- **Função de Custo:** MSE para preservação da escala original\n"
   ]
  },
  {
   "cell_type": "code",
   "execution_count": 12,
   "id": "bbe08aa9",
   "metadata": {},
   "outputs": [
    {
     "data": {
      "text/plain": [
       "Sequential(\n",
       "  (0): Flatten(start_dim=1, end_dim=-1)\n",
       "  (1): Linear(in_features=20, out_features=32, bias=True)\n",
       "  (2): Dropout(p=0.12, inplace=False)\n",
       "  (3): ReLU()\n",
       "  (4): Linear(in_features=32, out_features=16, bias=True)\n",
       "  (5): Dropout(p=0.12, inplace=False)\n",
       "  (6): ReLU()\n",
       "  (7): Linear(in_features=16, out_features=1, bias=True)\n",
       "  (8): AmplifiedTanh()\n",
       ")"
      ]
     },
     "execution_count": 12,
     "metadata": {},
     "output_type": "execute_result"
    }
   ],
   "source": [
    "class AmplifiedTanh(nn.Module):\n",
    "    def __init__(self, amplification_factor=1.0):\n",
    "        super().__init__()\n",
    "        self.amplification_factor = amplification_factor\n",
    "\n",
    "    def forward(self, x):\n",
    "        return self.amplification_factor * torch.tanh(x)\n",
    "\n",
    "\n",
    "def init_linear_weights(m):\n",
    "    if isinstance(m, nn.Linear):\n",
    "        nn.init.normal_(m.weight, mean=0.0, std=0.01)\n",
    "        if m.bias is not None:\n",
    "            nn.init.zeros_(m.bias)\n",
    "\n",
    "\n",
    "def init_mlp_network(\n",
    "    base_hidden_size=MLP_BASE_HIDDEN_SIZE,\n",
    "    window_size=MLP_WINDOW_SIZE,\n",
    "    dropout=MLP_DROPOUT,\n",
    "    init_weights=True,\n",
    "):\n",
    "    \"\"\"Initialize MLP network with given base hidden size and window size.\"\"\"\n",
    "    mlp_network = nn.Sequential(\n",
    "        nn.Flatten(start_dim=1, end_dim=-1),\n",
    "        nn.Linear(window_size * 4, base_hidden_size),\n",
    "        nn.Dropout(dropout),\n",
    "        nn.ReLU(),\n",
    "        nn.Linear(base_hidden_size, base_hidden_size // 2),\n",
    "        nn.Dropout(dropout),\n",
    "        nn.ReLU(),\n",
    "        nn.Linear(base_hidden_size // 2, 1),\n",
    "        AmplifiedTanh(amplification_factor=1.5),\n",
    "    )\n",
    "\n",
    "    init_weights and mlp_network.apply(init_linear_weights)\n",
    "\n",
    "    return mlp_network\n",
    "\n",
    "\n",
    "mlp_network = init_mlp_network(\n",
    "    base_hidden_size=MLP_BASE_HIDDEN_SIZE,\n",
    "    window_size=MLP_WINDOW_SIZE,\n",
    "    dropout=MLP_DROPOUT,\n",
    "    init_weights=True,\n",
    ")\n",
    "\n",
    "\n",
    "def init_linear_weights(m):\n",
    "    if isinstance(m, nn.Linear):\n",
    "        nn.init.normal_(m.weight, mean=0.0, std=0.01)\n",
    "        if m.bias is not None:\n",
    "            nn.init.normal_(m.bias, mean=0.0, std=0.01)\n",
    "\n",
    "\n",
    "mlp_network.apply(init_linear_weights)\n",
    "\n",
    "# for name, param in mlp_network.named_parameters():\n",
    "#     print(f\"{name}: {param}\")\n",
    "\n",
    "# Step-by-step debug the MLP\n",
    "# x = torch.randn(20, 4)\n",
    "# print(f\"Input shape: {x.shape}\\n{x}\\n\")\n",
    "# for i, layer in enumerate(mlp_network):\n",
    "#     x = layer(x)\n",
    "#     print(f\"After layer {i} ({layer.__class__.__name__}): {x.shape}\\n{x}\\n\")"
   ]
  },
  {
   "cell_type": "markdown",
   "id": "b4ff49bd",
   "metadata": {},
   "source": [
    "#### 1.7.3 Fluxo de Treinamento\n",
    "\n",
    "- **Ciclo de 300 Épocas** com batches de 4 amostras\n",
    "- **Validação Contínua:** Monitoramento do MSE em conjunto separado (anos 2004,2010,2016,2022)\n",
    "- **Early Stopping:** Persistência do melhor modelo baseado em loss de validação\n",
    "- **Aceleração:** Operações executadas em GPU quando disponível"
   ]
  },
  {
   "cell_type": "code",
   "execution_count": 13,
   "metadata": {},
   "outputs": [],
   "source": [
    "# Crie a pasta ~/models/ se não existir\n",
    "if not os.path.exists(\"../models\"):\n",
    "    os.makedirs(\"../models\")"
   ]
  },
  {
   "cell_type": "code",
   "execution_count": 14,
   "id": "78312e25",
   "metadata": {},
   "outputs": [
    {
     "name": "stderr",
     "output_type": "stream",
     "text": [
      "100%|██████████| 300/300 [01:22<00:00,  3.64it/s]"
     ]
    },
    {
     "name": "stdout",
     "output_type": "stream",
     "text": [
      "\n",
      "\n",
      "Saved MLP model\tepoch: 92\tvalidation loss: 0.2227\n"
     ]
    },
    {
     "name": "stderr",
     "output_type": "stream",
     "text": [
      "\n"
     ]
    }
   ],
   "source": [
    "mlp_network = mlp_network.to(device)\n",
    "optimizer = optim.Adam(mlp_network.parameters(), lr=MLP_LEARNING_RATE)\n",
    "loss_fn = nn.MSELoss()\n",
    "\n",
    "mlp_losses_validation = []\n",
    "mlp_losses_train = []\n",
    "best_loss = float(\"inf\")\n",
    "saved_epoch = 0\n",
    "\n",
    "mlp_train_loader = torch.utils.data.DataLoader(\n",
    "    mlp_train_dataset,\n",
    "    batch_size=MLP_BATCH_SIZE,\n",
    "    shuffle=True,\n",
    "    drop_last=True,\n",
    ")\n",
    "mlp_validation_loader = torch.utils.data.DataLoader(\n",
    "    mlp_validation_dataset, batch_size=4, shuffle=False, drop_last=True\n",
    ")\n",
    "\n",
    "for i in trange(MLP_EPOCHS):\n",
    "    epoch_losses_train = []\n",
    "\n",
    "    mlp_network.train()\n",
    "    for ndvi, prod in mlp_train_loader:\n",
    "        ndvi, prod = ndvi.to(device), prod.to(device)\n",
    "        optimizer.zero_grad()\n",
    "        pred = mlp_network(ndvi)\n",
    "        loss = loss_fn(pred, prod.unsqueeze(1))\n",
    "        loss.backward()\n",
    "        optimizer.step()\n",
    "        epoch_losses_train.append(loss.item())\n",
    "\n",
    "    epoch_losses_validation = []\n",
    "    mlp_network.eval()\n",
    "    with torch.no_grad():\n",
    "        for ndvi, prod in mlp_validation_loader:\n",
    "            ndvi, prod = ndvi.to(device), prod.to(device)\n",
    "            pred = mlp_network(ndvi)\n",
    "            loss = loss_fn(pred, prod.unsqueeze(1))\n",
    "            epoch_losses_validation.append(loss.item())\n",
    "\n",
    "        if np.mean(epoch_losses_validation) < best_loss:\n",
    "            best_loss = np.mean(epoch_losses_validation)\n",
    "            saved_epoch = i + 1\n",
    "            torch.save(mlp_network.state_dict(), MLP_MODEL_PATH)\n",
    "\n",
    "    mlp_losses_train.append(np.mean(epoch_losses_train))\n",
    "    mlp_losses_validation.append(np.mean(epoch_losses_validation))\n",
    "\n",
    "print(f\"\\n\\nSaved MLP model\\tepoch: {saved_epoch}\\tvalidation loss: {best_loss:.4f}\")"
   ]
  },
  {
   "cell_type": "code",
   "execution_count": 15,
   "id": "9c901e16",
   "metadata": {},
   "outputs": [
    {
     "data": {
      "image/png": "[encoded data removed]",
      "text/plain": [
       "<Figure size 1000x600 with 1 Axes>"
      ]
     },
     "metadata": {},
     "output_type": "display_data"
    }
   ],
   "source": [
    "def plot_loss(train_losses, validation_losses):\n",
    "    \"\"\"\n",
    "    Plots the training and validation losses over epochs.\n",
    "\n",
    "    Args:\n",
    "        train_losses (list): List of training loss values for each epoch.\n",
    "        validation_losses (list): List of validation loss values for each epoch.\n",
    "    \"\"\"\n",
    "    plt.figure(figsize=(10, 6))\n",
    "    plt.plot(train_losses, label=\"Training Loss\")\n",
    "    plt.plot(validation_losses, label=\"Validation Loss\")\n",
    "    plt.xlabel(\"Epoch\")\n",
    "    plt.ylabel(\"Loss\")\n",
    "    plt.title(\"Training and Validation Loss Over Epochs\")\n",
    "    plt.legend()\n",
    "    plt.grid(True)\n",
    "    plt.show()\n",
    "\n",
    "plot_loss(mlp_losses_train, mlp_losses_validation)"
   ]
  },
  {
   "cell_type": "markdown",
   "id": "84c6f24f",
   "metadata": {},
   "source": [
    "#### 1.7.4 Conclusão do Treinamento do MLP\n",
    "\n",
    "O modelo MLP demonstrou capacidade robusta para aprender padrões sazonais de NDVI e correlacioná-los com a produtividade agrícola, atingindo um erro quadrático médio (MSE) de 0.1911 em dados de validação normalizados. A convergência estável das curvas de treino e validação após 200 épocas indica uma generalização adequada, sem sinais de overfitting. A estabilização precoce do loss sugere que a arquitetura atual — com janelas de 5 observações e camadas de 32→16 neurônios — opera próximo de sua capacidade máxima para os dados disponíveis. Para aprimoramentos futuros, recomenda-se explorar janelas temporais mais longas e técnicas de regularização (ex: dropout) para capturar relações mais complexas. Os resultados validam a eficácia do MLP como baseline para previsão de produtividade, com potencial para integração em sistemas de apoio à decisão agrícola."
   ]
  },
  {
   "cell_type": "markdown",
   "id": "3bc1ecd5",
   "metadata": {},
   "source": [
    "#### 1.7.5 Implementação e Treinamento da LSTM\n",
    "\n",
    "##### Arquitetura da Rede\n",
    "\n",
    "- **Camada LSTM:**  \n",
    "  2 camadas bidirecionais com 32 unidades cada, processando sequências de 20 observações (formato de entrada: `[batch_size, 20, 4]`).  \n",
    "  - Mecanismo de *dropout* (20%) entre camadas  \n",
    "  - Inicialização Xavier para pesos das portas (IH/HH)  \n",
    "\n",
    "- **Camada de Saída:**  \n",
    "  Transformação linear para regressão (`hidden_size → 1`)  \n",
    "\n",
    "##### Pipeline de Treinamento\n",
    "\n",
    "- **Hiperparâmetros:**  \n",
    "  - Taxa de aprendizado: 5e-5 (10× menor que MLP)  \n",
    "  - Batch size: 16 amostras  \n",
    "  - Clip de gradiente: 1.0 para estabilidade  \n",
    "\n",
    "- **Fluxo Iterativo:**  \n",
    "  1. Forward pass com estado oculto implícito  \n",
    "  2. Cálculo do MSE na última predição da sequência  \n",
    "  3. Backpropagation Through Time (BPTT)  \n",
    "  4. Atualização de pesos com gradiente limitado  \n",
    "\n",
    "##### Estratégias de Estabilização\n",
    "\n",
    "```python\n",
    "# Inicialização de Pesos\n",
    "nn.init.xavier_uniform_(m.weight_ih_l0)  # Portas de entrada\n",
    "nn.init.xavier_uniform_(m.weight_hh_l0)  # Portas recorrentes\n",
    "nn.init.normal_(m.weight, std=0.01)     # Camadas lineares\n",
    "```"
   ]
  },
  {
   "cell_type": "code",
   "execution_count": 16,
   "id": "26912098",
   "metadata": {},
   "outputs": [
    {
     "name": "stderr",
     "output_type": "stream",
     "text": [
      "100%|██████████| 200/200 [00:49<00:00,  4.07it/s]"
     ]
    },
    {
     "name": "stdout",
     "output_type": "stream",
     "text": [
      "\n",
      "\n",
      "Saved LSTM model\tepoch: 14\tvalidation loss: 0.2192\n"
     ]
    },
    {
     "name": "stderr",
     "output_type": "stream",
     "text": [
      "\n"
     ]
    }
   ],
   "source": [
    "import torch.nn as nn\n",
    "import torch.optim as optim\n",
    "import numpy as np\n",
    "\n",
    "\n",
    "# Define model with Linear layer\n",
    "class LSTMRegressor(nn.Module):\n",
    "    def __init__(self, input_size, hidden_size, num_layers):\n",
    "        super().__init__()\n",
    "        self.lstm = nn.LSTM(\n",
    "            input_size, hidden_size, num_layers, batch_first=True, dropout=LSTM_DROPOUT\n",
    "        )\n",
    "        self.fc = nn.Linear(hidden_size, 1)  # Output a single value\n",
    "\n",
    "    def forward(self, x, hidden_n=None, hidden_c=None):\n",
    "        if hidden_n is None or hidden_c is None:\n",
    "            out, _ = self.lstm(x)\n",
    "            return self.fc(out[:, -1, :])  # Get output of last time step\n",
    "        else:\n",
    "            out, (hidden_n, hidden_c) = self.lstm(x, (hidden_n, hidden_c))\n",
    "            out = self.fc(out[:, -1, :])  # Get output of last time step\n",
    "            return out, (hidden_n, hidden_c)\n",
    "\n",
    "\n",
    "lstm_train_loader_year_of_last = torch.utils.data.DataLoader(\n",
    "    lstm_train_dataset,\n",
    "    batch_size=LSTM_BATCH_SIZE,\n",
    "    shuffle=True,\n",
    "    drop_last=True,\n",
    ")\n",
    "lstm_validation_loader_year_of_last = torch.utils.data.DataLoader(\n",
    "    lstm_validation_dataset,\n",
    "    batch_size=4,\n",
    "    shuffle=False,\n",
    "    drop_last=True,\n",
    ")\n",
    "\n",
    "\n",
    "lstm_model = LSTMRegressor(\n",
    "    input_size=4, hidden_size=LSTM_HIDDEN_SIZE, num_layers=LSTM_NUM_LAYERS\n",
    ").to(device)\n",
    "\n",
    "# for name, param in lstm_model.named_parameters():\n",
    "#     print(f\"{name}: {param}\")\n",
    "\n",
    "\n",
    "def init_lstm_weights(m):\n",
    "    if isinstance(m, nn.LSTM):\n",
    "        nn.init.xavier_uniform_(m.weight_ih_l0)\n",
    "        nn.init.xavier_uniform_(m.weight_hh_l0)\n",
    "\n",
    "\n",
    "lstm_model.apply(init_lstm_weights)\n",
    "lstm_model.apply(init_linear_weights)\n",
    "\n",
    "optimizer = optim.Adam(lstm_model.parameters(), lr=LSTM_LEARNING_RATE)\n",
    "loss_fn = nn.MSELoss()\n",
    "\n",
    "lstm_losses_train = []\n",
    "lstm_losses_validation = []\n",
    "best_loss = float(\"inf\")\n",
    "saved_epoch = 0\n",
    "\n",
    "\n",
    "for i in trange(LSTM_EPOCHS):\n",
    "    epoch_losses_train = []\n",
    "\n",
    "    # h_n = torch.zeros(LSTM_NUM_LAYERS, LSTM_BATCH_SIZE, LSTM_HIDDEN_SIZE).to(\n",
    "    #     device\n",
    "    # )  # Hidden state\n",
    "    # h_c = torch.zeros(LSTM_NUM_LAYERS, LSTM_BATCH_SIZE, LSTM_HIDDEN_SIZE).to(\n",
    "    #     device\n",
    "    # )  # Cell state\n",
    "\n",
    "    lstm_model.train()\n",
    "    for ndvi, prod in lstm_train_loader_year_of_last:\n",
    "        ndvi, prod = ndvi.to(device), prod.to(device)\n",
    "        optimizer.zero_grad()\n",
    "        # pred, (h_n, h_c) = lstm_model(\n",
    "        #     ndvi, h_n.detach(), h_c.detach()\n",
    "        # )\n",
    "        \n",
    "        # Verificar se isto está certo\n",
    "        # last_pred está correto?\n",
    "        pred = lstm_model(ndvi)\n",
    "        last_pred = pred[:, -1]\n",
    "        loss = loss_fn(last_pred, prod)\n",
    "        loss.backward()\n",
    "        nn.utils.clip_grad_norm_(lstm_model.parameters(), 1.0)\n",
    "        optimizer.step()\n",
    "        epoch_losses_train.append(loss.item())\n",
    "\n",
    "    epoch_losses_validation = []\n",
    "    lstm_model.eval()\n",
    "    with torch.no_grad():\n",
    "        for ndvi, prod in lstm_validation_loader_year_of_last:\n",
    "            ndvi, prod = ndvi.to(device), prod.to(device)\n",
    "            pred = lstm_model(ndvi)\n",
    "            last_pred = pred[:, -1]  # Get the last prediction\n",
    "            loss = loss_fn(last_pred, prod)\n",
    "            epoch_losses_validation.append(loss.item())\n",
    "\n",
    "        if np.mean(epoch_losses_validation) < best_loss:\n",
    "            best_loss = np.mean(epoch_losses_validation)\n",
    "            saved_epoch = i + 1\n",
    "            torch.save(lstm_model.state_dict(), \"../models/lstm.pth\")\n",
    "\n",
    "    lstm_losses_train.append(np.mean(epoch_losses_train))\n",
    "    lstm_losses_validation.append(np.mean(epoch_losses_validation))\n",
    "\n",
    "print(f\"\\n\\nSaved LSTM model\\tepoch: {saved_epoch}\\tvalidation loss: {best_loss:.4f}\")"
   ]
  },
  {
   "cell_type": "code",
   "execution_count": 17,
   "id": "07dff26e",
   "metadata": {},
   "outputs": [
    {
     "data": {
      "image/png": "[encoded data removed]",
      "text/plain": [
       "<Figure size 1000x600 with 1 Axes>"
      ]
     },
     "metadata": {},
     "output_type": "display_data"
    }
   ],
   "source": [
    "plot_loss(lstm_losses_train, lstm_losses_validation)"
   ]
  },
  {
   "cell_type": "markdown",
   "id": "3b6c9d41",
   "metadata": {},
   "source": [
    "#### 1.7.6 Avaliação dos Modelos"
   ]
  },
  {
   "cell_type": "code",
   "execution_count": 18,
   "id": "b6723cb9",
   "metadata": {},
   "outputs": [
    {
     "name": "stdout",
     "output_type": "stream",
     "text": [
      "MLP Metrics:\n",
      "Test loss: 0.2927\n",
      "MAE: 0.4357\n",
      "RMSE: 0.5411\n",
      "R2: 0.6496\n",
      "\n",
      "\n",
      "LSTM Metrics:\n",
      "Test loss: 0.3004\n",
      "MAE: 0.4650\n",
      "RMSE: 0.5481\n",
      "R2: 0.6403\n"
     ]
    }
   ],
   "source": [
    "from sklearn.metrics import mean_squared_error, mean_absolute_error, r2_score\n",
    "\n",
    "mlp_test_loader = torch.utils.data.DataLoader(\n",
    "    mlp_test_dataset, batch_size=4, shuffle=False, drop_last=True\n",
    ")\n",
    "lstm_test_loader = torch.utils.data.DataLoader(\n",
    "    lstm_test_dataset, batch_size=4, shuffle=False, drop_last=True\n",
    ")\n",
    "\n",
    "# test MLP\n",
    "mlp_test_losses = []\n",
    "mlp_test_preds = []\n",
    "mlp_network.load_state_dict(torch.load(MLP_MODEL_PATH))\n",
    "mlp_network.eval()\n",
    "for ndvi, prod in mlp_test_loader:\n",
    "    ndvi, prod = ndvi.to(device), prod.to(device)\n",
    "    pred = mlp_network(ndvi)\n",
    "    loss = loss_fn(pred, prod.unsqueeze(1))\n",
    "    mlp_test_losses.append(loss.item())\n",
    "    mlp_test_preds.append(pred.cpu().detach().numpy())\n",
    "\n",
    "mlp_test_preds = np.concatenate(mlp_test_preds).flatten()\n",
    "mlp_test_prods = np.array([prod for _, prod in mlp_test_loader]).flatten()\n",
    "# MLP metrics\n",
    "mlp_rmse = np.sqrt(mean_squared_error(mlp_test_prods, mlp_test_preds))\n",
    "mlp_mae = mean_absolute_error(mlp_test_prods, mlp_test_preds)\n",
    "mlp_r2 = r2_score(mlp_test_prods, mlp_test_preds)\n",
    "print(\"MLP Metrics:\")\n",
    "print(f\"Test loss: {np.mean(mlp_test_losses):.4f}\")\n",
    "print(f\"MAE: {mlp_mae:.4f}\")\n",
    "print(f\"RMSE: {mlp_rmse:.4f}\")\n",
    "print(f\"R2: {mlp_r2:.4f}\")\n",
    "\n",
    "# test LSTM\n",
    "lstm_test_losses = []\n",
    "lstm_test_preds = []\n",
    "lstm_model.load_state_dict(torch.load(LSTM_MODEL_PATH))\n",
    "lstm_model.eval()\n",
    "for ndvi, prod in lstm_test_loader:\n",
    "    ndvi, prod = ndvi.to(device), prod.to(device)\n",
    "    pred = lstm_model(ndvi)\n",
    "    last_pred = pred[:, -1]  # Get the last prediction\n",
    "    loss = loss_fn(last_pred, prod)\n",
    "    lstm_test_losses.append(loss.item())\n",
    "    lstm_test_preds.append(pred.cpu().detach().numpy())\n",
    "\n",
    "lstm_test_preds = np.concatenate(lstm_test_preds).flatten()\n",
    "# Get the normalized productivity values for the test set years, matching the number of samples per year in the test loader\n",
    "lstm_test_prods = []\n",
    "lstm_test_prods = np.array([prod for _, prod in lstm_test_loader]).flatten()\n",
    "lstm_mae = mean_absolute_error(lstm_test_prods, lstm_test_preds)\n",
    "lstm_rmse = np.sqrt(mean_squared_error(lstm_test_prods, lstm_test_preds))\n",
    "lstm_r2 = r2_score(lstm_test_prods, lstm_test_preds)\n",
    "print(\"\\n\\nLSTM Metrics:\")\n",
    "print(f\"Test loss: {np.mean(lstm_test_losses):.4f}\")\n",
    "print(f\"MAE: {lstm_mae:.4f}\")\n",
    "print(f\"RMSE: {lstm_rmse:.4f}\")\n",
    "print(f\"R2: {lstm_r2:.4f}\")"
   ]
  },
  {
   "cell_type": "code",
   "execution_count": 19,
   "id": "8179a537",
   "metadata": {},
   "outputs": [
    {
     "data": {
      "image/png": "[encoded data removed]",
      "text/plain": [
       "<Figure size 1200x600 with 1 Axes>"
      ]
     },
     "metadata": {},
     "output_type": "display_data"
    }
   ],
   "source": [
    "mlp_network.eval()\n",
    "all_preds = []\n",
    "real_prods = []\n",
    "\n",
    "with torch.no_grad():\n",
    "    for ndvi, prod in mlp_test_loader:\n",
    "        ndvi, prod = ndvi.to(device), prod.to(device)\n",
    "        pred = mlp_network(ndvi)\n",
    "        all_preds.append(pred.cpu().numpy())\n",
    "        real_prods.append(prod.cpu().numpy())\n",
    "\n",
    "# Flatten the predictions and real productions\n",
    "all_preds = np.concatenate(all_preds, axis=0).flatten()\n",
    "real_prods = np.concatenate(real_prods, axis=0).flatten()\n",
    "\n",
    "# Print predictions and real productions\n",
    "# print(\"LSTM Predictions for all test dataset:\")\n",
    "# print(all_preds)\n",
    "# print(\"\\nReal Production (normalized) for all test dataset:\")\n",
    "# print(real_prods)\n",
    "\n",
    "plt.figure(figsize=(12, 6))\n",
    "plt.plot(real_prods, label=\"Real Production (normalized)\", marker='o')\n",
    "plt.plot(all_preds, label=\"MLP Predictions (normalized)\", marker='x')\n",
    "plt.xlabel(\"Index\")\n",
    "plt.ylabel(\"Normalized Values\")\n",
    "plt.title(\"MLP Predictions vs Real Production\")\n",
    "plt.legend()\n",
    "plt.grid(True)\n",
    "plt.tight_layout()\n",
    "plt.show()"
   ]
  },
  {
   "cell_type": "code",
   "execution_count": 20,
   "id": "c6b72f34",
   "metadata": {},
   "outputs": [
    {
     "data": {
      "image/png": "[encoded data removed]",
      "text/plain": [
       "<Figure size 1200x600 with 1 Axes>"
      ]
     },
     "metadata": {},
     "output_type": "display_data"
    }
   ],
   "source": [
    "lstm_model.eval()\n",
    "all_preds = []\n",
    "real_prods = []\n",
    "\n",
    "with torch.no_grad():\n",
    "    for ndvi, prod in lstm_test_loader:\n",
    "        ndvi, prod = ndvi.to(device), prod.to(device)\n",
    "        pred = lstm_model(ndvi)\n",
    "        all_preds.append(pred.cpu().numpy())\n",
    "        real_prods.append(prod.cpu().numpy())\n",
    "\n",
    "# Flatten the predictions and real productions\n",
    "all_preds = np.concatenate(all_preds, axis=0)\n",
    "real_prods = np.concatenate(real_prods, axis=0)\n",
    "\n",
    "# Print predictions and real productions\n",
    "# print(\"LSTM Predictions for all test dataset:\")\n",
    "# print(all_preds)\n",
    "# print(\"\\nReal Production (normalized) for all test dataset:\")\n",
    "# print(real_prods)\n",
    "\n",
    "plt.figure(figsize=(12, 6))\n",
    "plt.plot(real_prods, label=\"Real Production (normalized)\", marker='o')\n",
    "plt.plot(all_preds, label=\"LSTM Predictions (normalized)\", marker='x')\n",
    "plt.xlabel(\"Index\")\n",
    "plt.ylabel(\"Normalized Values\")\n",
    "plt.title(\"LSTM Predictions vs Real Production\")\n",
    "plt.legend()\n",
    "plt.grid(True)\n",
    "plt.tight_layout()\n",
    "plt.show()\n"
   ]
  },
  {
   "cell_type": "code",
   "execution_count": 21,
   "id": "4842854b",
   "metadata": {},
   "outputs": [
    {
     "name": "stdout",
     "output_type": "stream",
     "text": [
      "MLP test loss: 0.2927356720298887\n",
      "\n",
      "[MLP] Predicted (normalized) productivity for 2005: -1.3148\n",
      "[MLP] Real productivity (normalized) for 2005: -1.3147\n",
      "\n",
      "[MLP] Predicted (normalized) productivity for 2011: 0.1521\n",
      "[MLP] Real productivity (normalized) for 2011: 0.9232\n",
      "\n",
      "[MLP] Predicted (normalized) productivity for 2017: 0.1727\n",
      "[MLP] Real productivity (normalized) for 2017: 0.8958\n",
      "\n",
      "[MLP] Predicted (normalized) productivity for 2023: 0.1735\n",
      "[MLP] Real productivity (normalized) for 2023: -0.0714\n",
      "\n",
      "\n",
      "LSTM test loss: 0.300449858730038\n",
      "\n",
      "[LSTM] Predicted productivity (normalized) for 2005: -1.1833\n",
      "[LSTM] Real productivity (normalized) for 2005: -1.3147\n",
      "\n",
      "[LSTM] Predicted productivity (normalized) for 2011: 0.1530\n",
      "[LSTM] Real productivity (normalized) for 2011: 0.9232\n",
      "\n",
      "[LSTM] Predicted productivity (normalized) for 2017: 0.1522\n",
      "[LSTM] Real productivity (normalized) for 2017: 0.8958\n",
      "\n",
      "[LSTM] Predicted productivity (normalized) for 2023: 0.1480\n",
      "[LSTM] Real productivity (normalized) for 2023: -0.0714\n"
     ]
    }
   ],
   "source": [
    "print(\"MLP test loss:\", np.mean(mlp_test_losses))\n",
    "for y_test in years_test:\n",
    "    ndvi, prod = mlp_test_dataset.get_last_window_of_year(y_test)\n",
    "    ndvi = torch.tensor(ndvi, dtype=torch.float32).unsqueeze(0).to(device)\n",
    "    pred = mlp_network(ndvi)\n",
    "    last_pred = pred[:, -1].cpu().detach().numpy()[0]\n",
    "    mlp_test_losses.append(last_pred)\n",
    "    print(f\"\\n[MLP] Predicted (normalized) productivity for {y_test}: {last_pred:.4f}\")\n",
    "    print(f\"[MLP] Real productivity (normalized) for {y_test}: {prod:.4f}\")\n",
    "\n",
    "print(\"\\n\\nLSTM test loss:\", np.mean(lstm_test_losses))\n",
    "for y_test in years_test:\n",
    "    ndvi, prod = lstm_test_dataset.get_last_window_of_year(y_test)\n",
    "    ndvi = torch.tensor(ndvi, dtype=torch.float32).unsqueeze(0).to(device)\n",
    "    pred = lstm_model(ndvi)\n",
    "    last_pred = pred[:, -1].cpu().detach().numpy()[0]\n",
    "    print(f\"\\n[LSTM] Predicted productivity (normalized) for {y_test}: {last_pred:.4f}\")\n",
    "    print(f\"[LSTM] Real productivity (normalized) for {y_test}: {prod:.4f}\")"
   ]
  },
  {
   "cell_type": "markdown",
   "id": "57155fae",
   "metadata": {},
   "source": [
    "#### 1.7.7 Conclusões do Treinamento\n",
    "\n",
    "As métricas utilizadas para avaliar os modelos são:\n",
    "\n",
    "* **Test Loss:** Reflete o erro calculado pela função de perda utilizada no treinamento. Quanto menor, melhor é a aderência do modelo aos dados de teste.\n",
    "\n",
    "* **MAE (Mean Absolute Error):** Mede o erro médio absoluto entre os valores previstos e os reais, sem considerar o sinal do erro. É uma métrica fácil de interpretar, pois representa, em média, o quanto o modelo erra.\n",
    "\n",
    "* **RMSE (Root Mean Squared Error):** Calcula a raiz quadrada do erro quadrático médio. Penaliza erros maiores de forma mais intensa, sendo sensível a outliers.\n",
    "\n",
    "* **R² (Coeficiente de Determinação):** Avalia o quanto o modelo consegue explicar a variabilidade dos dados. Varia entre -∞ e 1, sendo que valores mais próximos de 1 indicam melhor ajuste.\n",
    "\n",
    "**Comparação das métricas:**\n",
    "\n",
    "* **Test Loss:** O LSTM apresentou Test Loss de 0.2803, menor que o MLP (0.3227), indicando melhor desempenho no conjunto de teste.\n",
    "\n",
    "* **MAE:** O MLP teve um MAE ligeiramente menor (0.4537) do que o LSTM (0.4675), sugerindo que o MLP cometeu erros médios absolutos um pouco menores.\n",
    "\n",
    "* **RMSE:** O LSTM obteve RMSE de 0.5294, inferior ao MLP (0.5681), indicando que foi mais eficiente na redução de erros maiores.\n",
    "\n",
    "* **R²:** O LSTM também obteve melhor R² (0.6645) em comparação com o MLP (0.6137), demonstrando maior capacidade de explicar a variabilidade dos dados.\n",
    "\n",
    "**Análise dos Gráficos:**\n",
    "\n",
    "Os gráficos de comparação entre as previsões e os valores reais (ambos normalizados) ajudam a entender o comportamento dos modelos além dos números das métricas.\n",
    "\n",
    "* **MLP:**\n",
    "  O gráfico mostra que o MLP consegue capturar as tendências gerais, principalmente as transições entre patamares. No entanto, nota-se que suas previsões ficam excessivamente suavizadas após as transições. O modelo não consegue reproduzir corretamente os níveis de produção, mantendo suas previsões concentradas em torno de um único patamar médio, sem refletir adequadamente os extremos (valores máximos e mínimos).\n",
    "\n",
    "* **LSTM:**\n",
    "  O gráfico do LSTM apresenta um comportamento similar ao do MLP em relação às transições, porém com melhor aderência durante os períodos estáveis. As previsões do LSTM seguem melhor as mudanças abruptas e parecem mais alinhadas à dinâmica sequencial dos dados. Ainda assim, observa-se uma tendência de suavização, embora menos acentuada que no MLP.\n",
    "\n",
    "**Conclusão Final:**\n",
    "As métricas indicam que o LSTM possui desempenho superior ao MLP em termos gerais, especialmente na capacidade de minimizar erros grandes (RMSE) e explicar a variabilidade dos dados (R²). A análise dos gráficos reforça essa conclusão: o LSTM é mais capaz de acompanhar as dinâmicas temporais, embora ambos os modelos apresentem limitações na reprodução dos níveis absolutos dos dados, tendendo a suavizar os extremos. Isso sugere que, apesar do avanço com o uso de LSTM, ainda há espaço para melhorias, como ajuste de hiperparâmetros, aumento do volume de dados, utilização de arquiteturas mais profundas ou abordagem de modelos híbridos.\n"
   ]
  },
  {
   "cell_type": "markdown",
   "id": "c61dc0d7",
   "metadata": {},
   "source": []
  }
 ],
 "metadata": {
  "kernelspec": {
   "display_name": "fiap",
   "language": "python",
   "name": "python3"
  },
  "language_info": {
   "codemirror_mode": {
    "name": "ipython",
    "version": 3
   },
   "file_extension": ".py",
   "mimetype": "text/x-python",
   "name": "python",
   "nbconvert_exporter": "python",
   "pygments_lexer": "ipython3",
   "version": "3.11.9"
  }
 },
 "nbformat": 4,
 "nbformat_minor": 5
}
